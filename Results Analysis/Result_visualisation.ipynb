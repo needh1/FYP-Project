import os
import json
import pandas as pd
import matplotlib.pyplot as plt
import seaborn as sns
from glob import glob

# Set the base directory where your result folders are located
base_dir = 'results_detection'

# Recursively find all JSON result files in the nested folders
json_files = glob(os.path.join(base_dir, '**', '*.json'), recursive=True)

print(f"Found {len(json_files)} JSON files.")

# Load all JSON data into a list
data = []
for file_path in json_files:
    try:
        with open(file_path, 'r') as f:
            result = json.load(f)
            result['file_name'] = os.path.basename(file_path)
            data.append(result)
    except Exception as e:
        print(f"Error reading {file_path}: {e}")

# Convert to DataFrame
df = pd.DataFrame(data)

# Basic overview
print("\nData Sample:")
display(df.head())

# Normalize key fields for analysis
df['vulnerability_detected'] = df['vulnerability_detected'].str.lower()
df['exploitable'] = df['exploitable'].str.lower()

# Plot 1: Vulnerability Detected Count
sns.countplot(x='vulnerability_detected', data=df)
plt.title('Vulnerability Detection Count')
plt.xlabel('Vulnerability Detected')
plt.ylabel('Count')
plt.show()

# Plot 2: Exploitability Count
sns.countplot(x='exploitable', data=df)
plt.title('Exploitability Count')
plt.xlabel('Exploitable')
plt.ylabel('Count')
plt.show()

# Plot 3: Token Usage Distribution
if 'token_usage' in df.columns:
    token_df = df['token_usage'].apply(pd.Series)
    df = pd.concat([df, token_df], axis=1)
    
    sns.histplot(df['total_tokens'], bins=20, kde=True)
    plt.title('Total Tokens Used per Prompt')
    plt.xlabel('Total Tokens')
    plt.ylabel('Frequency')
    plt.show()

# Plot 4: Time Taken
sns.histplot(df['time'], bins=20, kde=True)
plt.title('Processing Time Distribution')
plt.xlabel('Time (seconds)')
plt.ylabel('Frequency')
plt.show()

# Plot 5: Grouped Insight
grouped = df.groupby(['vulnerability_detected', 'exploitable']).size().reset_index(name='count')
sns.barplot(x='vulnerability_detected', y='count', hue='exploitable', data=grouped)
plt.title('Vulnerability vs Exploitability')
plt.xlabel('Vulnerability Detected')
plt.ylabel('Count')
plt.show()

# Save to CSV for external inspection
df.to_csv('all_results_flattened.csv', index=False)
